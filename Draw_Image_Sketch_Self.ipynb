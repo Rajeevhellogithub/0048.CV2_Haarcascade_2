{
 "cells": [
  {
   "cell_type": "markdown",
   "id": "92a7b0c0-4b86-4e87-9e21-c36769e332f5",
   "metadata": {},
   "source": [
    "* Instructions:\n",
    "  * Run Third Cell\n",
    "  * Webcam will open - Select face area from mouse - Press Enter - A skecth of selected area will show\n",
    "  * Press 'q' for exit\n",
    "  * WIthout selecting area you can't exit"
   ]
  },
  {
   "cell_type": "code",
   "execution_count": 1,
   "id": "0fc4d092-23d9-4326-aa28-e56e7210bcf2",
   "metadata": {},
   "outputs": [],
   "source": [
    "import numpy as np\n",
    "import cv2"
   ]
  },
  {
   "cell_type": "code",
   "execution_count": 3,
   "id": "ec786080-48fd-4cb6-9445-fb8110a809eb",
   "metadata": {},
   "outputs": [],
   "source": [
    "def sketch_transform(image):\n",
    "    image_grayscale = cv2.cvtColor(image, cv2.COLOR_BGR2GRAY)\n",
    "    image_grayscale_blurred = cv2.GaussianBlur(image_grayscale, (7, 7), 0)\n",
    "    image_canny = cv2.Canny(image_grayscale_blurred, 10, 80)\n",
    "    _ , mask = cv2.threshold(image_canny, 30, 255, cv2.THRESH_BINARY_INV)\n",
    "    return mask\n",
    "\n",
    "cam_capture = cv2.VideoCapture(0)\n",
    "\n",
    "if not cam_capture.isOpened():\n",
    "    print(\"Error: Could not access the webcam.\")\n",
    "    exit()\n",
    "\n",
    "cv2.namedWindow(\"Select ROI\")\n",
    "\n",
    "ret, frame = cam_capture.read()\n",
    "if not ret:\n",
    "    print(\"Error: Could not read frame.\")\n",
    "    cam_capture.release()\n",
    "    exit()\n",
    "\n",
    "r = cv2.selectROI(\"Select ROI\", frame, fromCenter=False, showCrosshair=True)\n",
    "cv2.destroyWindow(\"Select ROI\")\n",
    "\n",
    "while True:\n",
    "    ret, image_frame = cam_capture.read()\n",
    "    if not ret:\n",
    "        print(\"Error: Could not read frame.\")\n",
    "        break\n",
    "\n",
    "    rect_img = image_frame[int(r[1]):int(r[1] + r[3]), int(r[0]):int(r[0] + r[2])]\n",
    "    sketcher_rect = sketch_transform(rect_img)\n",
    "    sketcher_rect_rgb = cv2.cvtColor(sketcher_rect, cv2.COLOR_GRAY2BGR)\n",
    "\n",
    "    image_frame[int(r[1]):int(r[1] + r[3]), int(r[0]):int(r[0] + r[2])] = sketcher_rect_rgb\n",
    "\n",
    "    cv2.imshow('Sketcher ROI', image_frame)\n",
    "\n",
    "    # Press 'q' to quit\n",
    "    if cv2.waitKey(1) & 0xFF == ord('q'):\n",
    "        break\n",
    "\n",
    "cam_capture.release()\n",
    "cv2.destroyAllWindows()"
   ]
  }
 ],
 "metadata": {
  "kernelspec": {
   "display_name": "tensorflowkernel",
   "language": "python",
   "name": "tensorflowkernel"
  },
  "language_info": {
   "codemirror_mode": {
    "name": "ipython",
    "version": 3
   },
   "file_extension": ".py",
   "mimetype": "text/x-python",
   "name": "python",
   "nbconvert_exporter": "python",
   "pygments_lexer": "ipython3",
   "version": "3.12.4"
  }
 },
 "nbformat": 4,
 "nbformat_minor": 5
}
