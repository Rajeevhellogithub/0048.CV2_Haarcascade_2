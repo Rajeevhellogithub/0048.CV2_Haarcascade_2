{
 "cells": [
  {
   "cell_type": "code",
   "execution_count": 7,
   "id": "1f6ab7a3-f87e-456f-a6c7-574dcffc4986",
   "metadata": {},
   "outputs": [],
   "source": [
    "from face_eye_oops import *"
   ]
  },
  {
   "cell_type": "code",
   "execution_count": null,
   "id": "cc0ecc74-1455-4a98-9c5f-55f5ed9c062a",
   "metadata": {},
   "outputs": [],
   "source": [
    "face_cascade_path = r'E:\\PYTHONCLASSTF\\PrakashSenapati\\2024_11_21_Haar_Cascade_Classifier_Projects\\Haarcascades\\haarcascade_frontalface_default.xml'\n",
    "eye_cascade_path = r'E:\\PYTHONCLASSTF\\PrakashSenapati\\2024_11_21_Haar_Cascade_Classifier_Projects\\Haarcascades\\haarcascade_eye.xml'\n",
    "\n",
    "detection_system = FaceAndEyeDetection(face_cascade_path, eye_cascade_path)\n",
    "\n",
    "# Press 'q' to exit\n",
    "detection_system.start_detection()"
   ]
  }
 ],
 "metadata": {
  "kernelspec": {
   "display_name": "tensorflowkernel",
   "language": "python",
   "name": "tensorflowkernel"
  },
  "language_info": {
   "codemirror_mode": {
    "name": "ipython",
    "version": 3
   },
   "file_extension": ".py",
   "mimetype": "text/x-python",
   "name": "python",
   "nbconvert_exporter": "python",
   "pygments_lexer": "ipython3",
   "version": "3.12.4"
  }
 },
 "nbformat": 4,
 "nbformat_minor": 5
}
