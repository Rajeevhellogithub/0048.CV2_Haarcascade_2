{
 "cells": [
  {
   "cell_type": "code",
   "execution_count": 1,
   "id": "cce15728-0e4d-4d1e-9a5b-5e5ccf4e347f",
   "metadata": {},
   "outputs": [],
   "source": [
    "import cv2\n",
    "import time"
   ]
  },
  {
   "cell_type": "code",
   "execution_count": 2,
   "id": "35d3c733-0a23-4401-9a8b-22b528c99697",
   "metadata": {},
   "outputs": [],
   "source": [
    "car_classifier_path = r'E:\\PYTHONCLASSTF\\PrakashSenapati\\2024_11_21_Haar_Cascade_Classifier_Projects\\Haarcascades\\haarcascade_car.xml'"
   ]
  },
  {
   "cell_type": "code",
   "execution_count": 3,
   "id": "e43ad7ce-fc9f-42ad-92d2-41b7dcc232cc",
   "metadata": {},
   "outputs": [
    {
     "name": "stdout",
     "output_type": "stream",
     "text": [
      "Video opened successfully. Starting car detection...\n",
      "Exiting...\n"
     ]
    }
   ],
   "source": [
    "car_classifier = cv2.CascadeClassifier(car_classifier_path)\n",
    "\n",
    "if car_classifier.empty():\n",
    "    print(f\"Error: Could not load the car classifier at {car_classifier_path}. Make sure the path is correct.\")\n",
    "    exit()\n",
    "\n",
    "video_path = r'E:\\PYTHONCLASSTF\\PrakashSenapati\\2024_11_21_Haar_Cascade_Classifier_Projects\\cars.avi'\n",
    "\n",
    "cap = cv2.VideoCapture(video_path)\n",
    "\n",
    "if not cap.isOpened():\n",
    "    print(f\"Error: Could not open the video at {video_path}. Make sure the file path is correct.\")\n",
    "    exit()\n",
    "\n",
    "print(\"Video opened successfully. Starting car detection...\")\n",
    "\n",
    "while cap.isOpened():\n",
    "    ret, frame = cap.read()\n",
    "\n",
    "    if not ret:\n",
    "        print(\"Error: Failed to capture frame or video has ended.\")\n",
    "        break\n",
    "\n",
    "    gray = cv2.cvtColor(frame, cv2.COLOR_BGR2GRAY)\n",
    "\n",
    "    cars = car_classifier.detectMultiScale(gray, scaleFactor=1.1, minNeighbors=3, minSize=(30, 30), flags=cv2.CASCADE_SCALE_IMAGE)\n",
    "\n",
    "    for (x, y, w, h) in cars:\n",
    "        cv2.rectangle(frame, (x, y), (x + w, y + h), (0, 255, 255), 2)\n",
    "\n",
    "    cv2.imshow('Cars Detection', frame)\n",
    "\n",
    "    # Exit the loop when 'q' key is pressed\n",
    "    if cv2.waitKey(1) & 0xFF == ord('q'):\n",
    "        print('Exiting...')\n",
    "        break\n",
    "\n",
    "    time.sleep(0.05)\n",
    "\n",
    "cap.release()\n",
    "cv2.destroyAllWindows()"
   ]
  }
 ],
 "metadata": {
  "kernelspec": {
   "display_name": "tensorflowkernel",
   "language": "python",
   "name": "tensorflowkernel"
  },
  "language_info": {
   "codemirror_mode": {
    "name": "ipython",
    "version": 3
   },
   "file_extension": ".py",
   "mimetype": "text/x-python",
   "name": "python",
   "nbconvert_exporter": "python",
   "pygments_lexer": "ipython3",
   "version": "3.12.4"
  }
 },
 "nbformat": 4,
 "nbformat_minor": 5
}
