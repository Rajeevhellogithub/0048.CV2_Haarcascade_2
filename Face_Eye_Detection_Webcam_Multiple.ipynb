{
 "cells": [
  {
   "cell_type": "markdown",
   "id": "a07e4332-94c4-43df-8a14-819a4649654c",
   "metadata": {},
   "source": [
    "**This Python code effectively detects faces and eyes in a real-time video stream using OpenCV. This code demonstrates a practical application of Haar cascade classifiers for real-time face and eye detection.**\n",
    "\n",
    "**1. Importing Libraries:**  \n",
    "\n",
    "* numpy as np: Imports the NumPy library for numerical operations.\n",
    "* import cv2: Imports the OpenCV library for computer vision tasks.\n",
    "\n",
    "**2. Loading Classifiers:**  \n",
    "\n",
    "* face_cascade = cv2.CascadeClassifier(...): Loads the pre-trained Haar cascade classifier for face detection from the specified XML file path.\n",
    "* eye_cascade = cv2.CascadeClassifier(...): Loads the pre-trained Haar cascade classifier for eye detection from the specified XML file path.\n",
    "* if statements check if the classifiers are loaded successfully and exit the program if there's an error.\n",
    "\n",
    "**3. detect_faces_and_eyes Function:**  \n",
    "\n",
    "* This function takes a grayscale image (gray) and the original color frame (frame) as input.\n",
    "* faces = face_cascade.detectMultiScale(...): Detects faces in the grayscale image using the loaded face cascade classifier. Parameters like\n",
    "* scaleFactor, minNeighbors, and minSize control the detection process.\n",
    "* Iterates through the detected faces:\n",
    "* Draws a rectangle around each detected face on the color frame.\n",
    "* Extracts the region of interest (ROI) for the detected face from both grayscale and color images.\n",
    "* eyes = eye_cascade.detectMultiScale(...): Detects eyes within the facial ROI using the loaded eye cascade classifier.\n",
    "* Iterates through the detected eyes:\n",
    "* Draws a rectangle around each detected eye on the color frame within the facial ROI.\n",
    "* Returns the modified color frame with rectangles drawn around detected faces and eyes.\n",
    "\n",
    "**4. Video Capture and Processing:**  \n",
    "\n",
    "* video_capture = cv2.VideoCapture(0): Initializes video capture from the default webcam (index 0).\n",
    "* if statement checks if the webcam is opened successfully and exits if there's an error.\n",
    "* Prints a message indicating successful webcam access and the start of face and eye detection.\n",
    "* A while loop continuously captures frames from the webcam:\n",
    "* ret, frame = video_capture.read(): Reads a frame from the webcam.\n",
    "* if not ret: Checks if frame reading was successful.\n",
    "* Converts the captured frame to grayscale for face detection.\n",
    "* Calls the detect_faces_and_eyes function to detect faces and eyes in the frame.\n",
    "* Displays the resulting frame with detected faces and eyes in a window titled \"Face and Eye Detection\".\n",
    "* Waits for a key press. Exits the loop if 'q' key is pressed.\n",
    "\n",
    "**5. Releasing Resources:**  \n",
    "\n",
    "* video_capture.release(): Releases the webcam resource.\n",
    "* cv2.destroyAllWindows(): Closes all OpenCV windows."
   ]
  },
  {
   "cell_type": "code",
   "execution_count": 1,
   "id": "b58ae28f-f310-46bf-a00f-f6c05196291a",
   "metadata": {},
   "outputs": [],
   "source": [
    "import numpy as np\n",
    "import cv2"
   ]
  },
  {
   "cell_type": "code",
   "execution_count": 2,
   "id": "40cd39bd-deec-4c29-9456-81a957daf046",
   "metadata": {},
   "outputs": [],
   "source": [
    "face_cascade = cv2.CascadeClassifier(r'E:\\PYTHONCLASSTF\\PrakashSenapati\\2024_11_21_Haar_Cascade_Classifier_Projects\\Haarcascades\\haarcascade_frontalface_default.xml')\n",
    "eye_cascade = cv2.CascadeClassifier(r'E:\\PYTHONCLASSTF\\PrakashSenapati\\2024_11_21_Haar_Cascade_Classifier_Projects\\Haarcascades\\haarcascade_eye.xml')"
   ]
  },
  {
   "cell_type": "code",
   "execution_count": 3,
   "id": "aeac3c2d-0428-403f-8bef-626b7cea766d",
   "metadata": {},
   "outputs": [
    {
     "name": "stdout",
     "output_type": "stream",
     "text": [
      "Webcam opened successfully. Starting face and eye detection...\n",
      "Exiting...\n"
     ]
    }
   ],
   "source": [
    "if face_cascade.empty():\n",
    "    print('Error: Could not load face cascade classifier.')\n",
    "    exit()\n",
    "\n",
    "if eye_cascade.empty():\n",
    "    print('Error: Could not load eye cascade classifier.')\n",
    "    exit()\n",
    "\n",
    "def detect_faces_and_eyes(gray, frame):\n",
    "    faces = face_cascade.detectMultiScale(gray, scaleFactor=1.1, minNeighbors=6, minSize=(30, 30), flags=cv2.CASCADE_SCALE_IMAGE)\n",
    "    \n",
    "    for (x, y, w, h) in faces:\n",
    "        cv2.rectangle(frame, (x, y), (x + w, y + h), (255, 0, 0), 2)\n",
    "        \n",
    "        roi_gray = gray[y:y + h, x:x + w]\n",
    "        roi_color = frame[y:y + h, x:x + w]\n",
    "        \n",
    "        eyes = eye_cascade.detectMultiScale(roi_gray)\n",
    "        for (ex, ey, ew, eh) in eyes:\n",
    "            cv2.rectangle(roi_color, (ex, ey), (ex + ew, ey + eh), (0, 255, 0), 2)\n",
    "\n",
    "    return frame\n",
    "\n",
    "video_capture = cv2.VideoCapture(0)\n",
    "\n",
    "if not video_capture.isOpened():\n",
    "    print('Error: Could not access the webcam.')\n",
    "    exit()\n",
    "\n",
    "print('Webcam opened successfully. Starting face and eye detection...')\n",
    "\n",
    "while True:\n",
    "    ret, frame = video_capture.read()\n",
    "    \n",
    "    if not ret:\n",
    "        print('Error: Failed to capture frame.')\n",
    "        break\n",
    "\n",
    "    gray = cv2.cvtColor(frame, cv2.COLOR_BGR2GRAY)\n",
    "\n",
    "    result_frame = detect_faces_and_eyes(gray, frame)\n",
    "\n",
    "    cv2.imshow('Face and Eye Detection', result_frame)\n",
    "\n",
    "    # Exit the loop when 'q' key is pressed\n",
    "    if cv2.waitKey(1) & 0xFF == ord('q'):\n",
    "        print('Exiting...')\n",
    "        break\n",
    "\n",
    "video_capture.release()\n",
    "cv2.destroyAllWindows()"
   ]
  }
 ],
 "metadata": {
  "kernelspec": {
   "display_name": "tensorflowkernel",
   "language": "python",
   "name": "tensorflowkernel"
  },
  "language_info": {
   "codemirror_mode": {
    "name": "ipython",
    "version": 3
   },
   "file_extension": ".py",
   "mimetype": "text/x-python",
   "name": "python",
   "nbconvert_exporter": "python",
   "pygments_lexer": "ipython3",
   "version": "3.12.4"
  }
 },
 "nbformat": 4,
 "nbformat_minor": 5
}
