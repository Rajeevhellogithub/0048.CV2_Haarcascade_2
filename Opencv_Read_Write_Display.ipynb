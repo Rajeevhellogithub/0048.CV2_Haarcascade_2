{
 "cells": [
  {
   "cell_type": "code",
   "execution_count": 2,
   "id": "346253a2-d596-47aa-936e-42c51c12b775",
   "metadata": {},
   "outputs": [],
   "source": [
    "import numpy as np\n",
    "import cv2"
   ]
  },
  {
   "cell_type": "code",
   "execution_count": null,
   "id": "d66b45fe-c70e-4d21-bf75-99b9e22da2e1",
   "metadata": {},
   "outputs": [],
   "source": [
    "input1 = cv2.imread(r'E:\\PYTHONCLASSTF\\PrakashSenapati\\2024_11_21_Haar_Cascade_Classifier_Projects\\prakashsir.jpg')"
   ]
  },
  {
   "cell_type": "code",
   "execution_count": 3,
   "id": "aed25ac7-952d-458a-834d-c8fcb75b0c46",
   "metadata": {},
   "outputs": [
    {
     "name": "stdout",
     "output_type": "stream",
     "text": [
      "Height of Image: 598 pixels\n",
      "Width of Image:  738 pixels\n"
     ]
    }
   ],
   "source": [
    "# Read Image\n",
    "\n",
    "print('Height of Image:', int(input1.shape[0]), 'pixels')\n",
    "print('Width of Image: ', int(input1.shape[1]), 'pixels')"
   ]
  },
  {
   "cell_type": "code",
   "execution_count": 4,
   "id": "0b745664-0124-4888-a4d2-05ee787672ab",
   "metadata": {},
   "outputs": [
    {
     "data": {
      "text/plain": [
       "True"
      ]
     },
     "execution_count": 4,
     "metadata": {},
     "output_type": "execute_result"
    }
   ],
   "source": [
    "# Write or Save Image\n",
    "\n",
    "cv2.imwrite('prakashsir_imwrite_1.jpg', input1)\n",
    "cv2.imwrite('prakashsir_imwrite_2.png', input1)"
   ]
  },
  {
   "cell_type": "code",
   "execution_count": 5,
   "id": "5aaa0911-3099-4a05-aeb6-7b9f0460c417",
   "metadata": {},
   "outputs": [],
   "source": [
    "# Display Image in new tkinter window\n",
    "\n",
    "cv2.imshow('Sir Image', input1)\n",
    "\n",
    "# Press any key to exit\n",
    "cv2.waitKey(0)\n",
    "cv2.destroyAllWindows()"
   ]
  }
 ],
 "metadata": {
  "kernelspec": {
   "display_name": "tensorflowkernel",
   "language": "python",
   "name": "tensorflowkernel"
  },
  "language_info": {
   "codemirror_mode": {
    "name": "ipython",
    "version": 3
   },
   "file_extension": ".py",
   "mimetype": "text/x-python",
   "name": "python",
   "nbconvert_exporter": "python",
   "pygments_lexer": "ipython3",
   "version": "3.12.4"
  }
 },
 "nbformat": 4,
 "nbformat_minor": 5
}
