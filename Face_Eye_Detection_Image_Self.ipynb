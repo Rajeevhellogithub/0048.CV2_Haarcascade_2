{
 "cells": [
  {
   "cell_type": "code",
   "execution_count": 1,
   "id": "a3cc456d-fa46-4aa0-a3bc-2dc50ffd3a9f",
   "metadata": {},
   "outputs": [],
   "source": [
    "import numpy as np\n",
    "import cv2"
   ]
  },
  {
   "cell_type": "code",
   "execution_count": 2,
   "id": "c44f3b82-1fb2-465e-a33f-c67b63b3ad2c",
   "metadata": {},
   "outputs": [],
   "source": [
    "face_classifier = cv2.CascadeClassifier(r'E:\\PYTHONCLASSTF\\PrakashSenapati\\2024_11_21_Haar_Cascade_Classifier_Projects\\Haarcascades\\haarcascade_frontalface_default.xml')\n",
    "eye_classifier = cv2.CascadeClassifier(r'E:\\PYTHONCLASSTF\\PrakashSenapati\\2024_11_21_Haar_Cascade_Classifier_Projects\\Haarcascades\\haarcascade_eye.xml')"
   ]
  },
  {
   "cell_type": "code",
   "execution_count": 3,
   "id": "7f5d6fee-36ab-4672-baf2-6dc064fbfea0",
   "metadata": {},
   "outputs": [],
   "source": [
    "# Below codes snippets will open rectangled (face & eyes) image of given input image in new tkinter window\n",
    "\n",
    "img = cv2.imread(r'E:\\PYTHONCLASSTF\\PrakashSenapati\\2024_11_21_Haar_Cascade_Classifier_Projects\\prakashsir.jpg')\n",
    "\n",
    "if img is None:\n",
    "    print('Error: Image not found or cannot be loaded!')\n",
    "    exit()\n",
    "\n",
    "gray = cv2.cvtColor(img, cv2.COLOR_BGR2GRAY)\n",
    "\n",
    "faces = face_classifier.detectMultiScale(gray, 1.3, 5)\n",
    "\n",
    "if len(faces) == 0:\n",
    "    print('No Face Found')\n",
    "\n",
    "for (x, y, w, h) in faces:\n",
    "    cv2.rectangle(img, (x, y), (x + w, y + h), (127, 0, 255), 2)\n",
    "    \n",
    "    roi_gray = gray[y:y + h, x:x + w]\n",
    "    roi_color = img[y:y + h, x:x + w]\n",
    "\n",
    "    eyes = eye_classifier.detectMultiScale(roi_gray)\n",
    "\n",
    "    for (ex, ey, ew, eh) in eyes:\n",
    "        cv2.rectangle(roi_color, (ex, ey), (ex + ew, ey + eh), (255, 255, 0), 2)\n",
    "\n",
    "cv2.imshow('img', img)\n",
    "\n",
    "# Press any key like space, enter etc to exit\n",
    "cv2.waitKey(0)\n",
    "cv2.destroyAllWindows()"
   ]
  }
 ],
 "metadata": {
  "kernelspec": {
   "display_name": "tensorflowkernel",
   "language": "python",
   "name": "tensorflowkernel"
  },
  "language_info": {
   "codemirror_mode": {
    "name": "ipython",
    "version": 3
   },
   "file_extension": ".py",
   "mimetype": "text/x-python",
   "name": "python",
   "nbconvert_exporter": "python",
   "pygments_lexer": "ipython3",
   "version": "3.12.4"
  }
 },
 "nbformat": 4,
 "nbformat_minor": 5
}
