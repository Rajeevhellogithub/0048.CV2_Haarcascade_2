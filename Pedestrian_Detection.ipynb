{
 "cells": [
  {
   "cell_type": "code",
   "execution_count": 1,
   "id": "1cca3b4f-4d89-4514-b5b6-5c2dfadb7c37",
   "metadata": {},
   "outputs": [],
   "source": [
    "import numpy as np\n",
    "import os\n",
    "import cv2"
   ]
  },
  {
   "cell_type": "code",
   "execution_count": 2,
   "id": "457b8ce9-0aa8-464c-a9b8-61a073abf12b",
   "metadata": {},
   "outputs": [],
   "source": [
    "body_classifier_path = r'E:\\PYTHONCLASSTF\\PrakashSenapati\\2024_11_21_Haar_Cascade_Classifier_Projects\\Haarcascades\\haarcascade_fullbody.xml'"
   ]
  },
  {
   "cell_type": "code",
   "execution_count": 3,
   "id": "26762ff7-c620-4bbd-8b10-3ce3189adce0",
   "metadata": {},
   "outputs": [
    {
     "name": "stdout",
     "output_type": "stream",
     "text": [
      "Video opened successfully. Starting pedestrian detection...\n",
      "Exiting...\n"
     ]
    }
   ],
   "source": [
    "if not os.path.exists(body_classifier_path):\n",
    "    print(f\"Error: The classifier file does not exist at {body_classifier_path}\")\n",
    "    exit()\n",
    "\n",
    "body_classifier = cv2.CascadeClassifier(body_classifier_path)\n",
    "\n",
    "if body_classifier.empty():\n",
    "    print(\"Error: Could not load the body classifier. Make sure the XML file is valid and accessible.\")\n",
    "    exit()\n",
    "\n",
    "video_path = r'E:\\PYTHONCLASSTF\\PrakashSenapati\\2024_11_21_Haar_Cascade_Classifier_Projects\\walking.avi'\n",
    "\n",
    "if not os.path.exists(video_path):\n",
    "    print(f\"Error: The video file does not exist at {video_path}\")\n",
    "    exit()\n",
    "\n",
    "cap = cv2.VideoCapture(video_path)\n",
    "\n",
    "if not cap.isOpened():\n",
    "    print(f\"Error: Could not open video file at {video_path}\")\n",
    "    exit()\n",
    "\n",
    "print(\"Video opened successfully. Starting pedestrian detection...\")\n",
    "\n",
    "while cap.isOpened():\n",
    "    ret, frame = cap.read()\n",
    "\n",
    "    if not ret:\n",
    "        print(\"Error: Failed to read frame from video. Exiting...\")\n",
    "        break\n",
    "\n",
    "    gray = cv2.cvtColor(frame, cv2.COLOR_BGR2GRAY)\n",
    "\n",
    "    bodies = body_classifier.detectMultiScale(gray, scaleFactor=1.2, minNeighbors=3, minSize=(50, 50), flags=cv2.CASCADE_SCALE_IMAGE)\n",
    "\n",
    "    for (x, y, w, h) in bodies:\n",
    "        cv2.rectangle(frame, (x, y), (x + w, y + h), (0, 255, 255), 2)\n",
    "\n",
    "    cv2.imshow('Pedestrians', frame)\n",
    "\n",
    "    # Exit the loop when 'q' key is pressed\n",
    "    if cv2.waitKey(1) & 0xFF == ord('q'):\n",
    "        print('Exiting...')\n",
    "        break\n",
    "\n",
    "cap.release()\n",
    "cv2.destroyAllWindows()"
   ]
  }
 ],
 "metadata": {
  "kernelspec": {
   "display_name": "tensorflowkernel",
   "language": "python",
   "name": "tensorflowkernel"
  },
  "language_info": {
   "codemirror_mode": {
    "name": "ipython",
    "version": 3
   },
   "file_extension": ".py",
   "mimetype": "text/x-python",
   "name": "python",
   "nbconvert_exporter": "python",
   "pygments_lexer": "ipython3",
   "version": "3.12.4"
  }
 },
 "nbformat": 4,
 "nbformat_minor": 5
}
