{
 "cells": [
  {
   "cell_type": "code",
   "execution_count": 1,
   "id": "2148bc1e-e555-477f-bafe-92747a5dbfb9",
   "metadata": {},
   "outputs": [],
   "source": [
    "import numpy as np\n",
    "import cv2"
   ]
  },
  {
   "cell_type": "code",
   "execution_count": 2,
   "id": "be1b09e8-522e-43a9-abcb-6e85a18145c5",
   "metadata": {},
   "outputs": [],
   "source": [
    "face_classifier = cv2.CascadeClassifier(r'E:\\PYTHONCLASSTF\\PrakashSenapati\\2024_11_21_Haar_Cascade_Classifier_Projects\\Haarcascades\\haarcascade_frontalface_default.xml')"
   ]
  },
  {
   "cell_type": "code",
   "execution_count": 4,
   "id": "c0d3b1d6-316d-4374-9abb-18ad456466f5",
   "metadata": {},
   "outputs": [],
   "source": [
    "img = cv2.imread(r'E:\\PYTHONCLASSTF\\PrakashSenapati\\2024_11_21_Haar_Cascade_Classifier_Projects\\prakashsir.jpg')\n",
    "\n",
    "if img is None:\n",
    "    print('Error: Image not found or cannot be loaded!')\n",
    "    exit()\n",
    "\n",
    "gray = cv2.cvtColor(img, cv2.COLOR_BGR2GRAY)\n",
    "\n",
    "faces = face_classifier.detectMultiScale(gray, 1.3, 5)\n",
    "\n",
    "if len(faces) == 0:\n",
    "    print('No Face Found')\n",
    "\n",
    "for (x, y, w, h) in faces:\n",
    "    cv2.rectangle(img, (x, y), (x + w, y + h), (127, 0, 255), 2)\n",
    "\n",
    "cv2.imshow('Face Detection', img)\n",
    "\n",
    "# Press any key like space, enter etc to exit\n",
    "cv2.waitKey(0)\n",
    "cv2.destroyAllWindows()"
   ]
  }
 ],
 "metadata": {
  "kernelspec": {
   "display_name": "tensorflowkernel",
   "language": "python",
   "name": "tensorflowkernel"
  },
  "language_info": {
   "codemirror_mode": {
    "name": "ipython",
    "version": 3
   },
   "file_extension": ".py",
   "mimetype": "text/x-python",
   "name": "python",
   "nbconvert_exporter": "python",
   "pygments_lexer": "ipython3",
   "version": "3.12.4"
  }
 },
 "nbformat": 4,
 "nbformat_minor": 5
}
